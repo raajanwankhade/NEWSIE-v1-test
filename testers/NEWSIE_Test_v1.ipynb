{
  "cells": [
    {
      "cell_type": "code",
      "execution_count": 1,
      "metadata": {
        "colab": {
          "base_uri": "https://localhost:8080/"
        },
        "id": "JN8LiqilHGDF",
        "outputId": "3949aafd-8816-4af9-d0c4-c5b6b735c45d"
      },
      "outputs": [
        {
          "name": "stdout",
          "output_type": "stream",
          "text": [
            "Collecting replicate\n",
            "  Downloading replicate-0.11.0-py3-none-any.whl (22 kB)\n",
            "Requirement already satisfied: packaging in /usr/local/lib/python3.10/dist-packages (from replicate) (23.1)\n",
            "Requirement already satisfied: pydantic>1 in /usr/local/lib/python3.10/dist-packages (from replicate) (1.10.12)\n",
            "Requirement already satisfied: requests>2 in /usr/local/lib/python3.10/dist-packages (from replicate) (2.31.0)\n",
            "Requirement already satisfied: typing-extensions>=4.2.0 in /usr/local/lib/python3.10/dist-packages (from pydantic>1->replicate) (4.5.0)\n",
            "Requirement already satisfied: charset-normalizer<4,>=2 in /usr/local/lib/python3.10/dist-packages (from requests>2->replicate) (3.2.0)\n",
            "Requirement already satisfied: idna<4,>=2.5 in /usr/local/lib/python3.10/dist-packages (from requests>2->replicate) (3.4)\n",
            "Requirement already satisfied: urllib3<3,>=1.21.1 in /usr/local/lib/python3.10/dist-packages (from requests>2->replicate) (2.0.4)\n",
            "Requirement already satisfied: certifi>=2017.4.17 in /usr/local/lib/python3.10/dist-packages (from requests>2->replicate) (2023.7.22)\n",
            "Installing collected packages: replicate\n",
            "Successfully installed replicate-0.11.0\n",
            "Requirement already satisfied: google in /usr/local/lib/python3.10/dist-packages (2.0.3)\n",
            "Requirement already satisfied: beautifulsoup4 in /usr/local/lib/python3.10/dist-packages (from google) (4.11.2)\n",
            "Requirement already satisfied: soupsieve>1.2 in /usr/local/lib/python3.10/dist-packages (from beautifulsoup4->google) (2.5)\n",
            "Requirement already satisfied: beautifulsoup4 in /usr/local/lib/python3.10/dist-packages (4.11.2)\n",
            "Requirement already satisfied: soupsieve>1.2 in /usr/local/lib/python3.10/dist-packages (from beautifulsoup4) (2.5)\n"
          ]
        }
      ],
      "source": [
        "!pip install replicate\n",
        "!pip install google\n",
        "!pip install beautifulsoup4"
      ]
    },
    {
      "cell_type": "code",
      "execution_count": 2,
      "metadata": {
        "id": "GKqVTQkPONvt"
      },
      "outputs": [],
      "source": [
        "import os\n",
        "os.environ[\"REPLICATE_API_TOKEN\"] = \"\" ##ENTER YOUR REPLICATE API TOKEN HERE##"
      ]
    },
    {
      "cell_type": "code",
      "execution_count": 3,
      "metadata": {
        "id": "UdOS0EVhGhBr"
      },
      "outputs": [],
      "source": [
        "import replicate"
      ]
    },
    {
      "cell_type": "code",
      "execution_count": 4,
      "metadata": {
        "id": "mc3NsR4TPvfA"
      },
      "outputs": [],
      "source": [
        "# file_path = \"output.txt\"\n",
        "# with open(file_path, 'w') as file:\n",
        "#     file.write(full_response)"
      ]
    },
    {
      "cell_type": "code",
      "execution_count": 5,
      "metadata": {
        "id": "S_7onlZaRGfm"
      },
      "outputs": [],
      "source": [
        "from googlesearch import search\n",
        "import requests\n",
        "from bs4 import BeautifulSoup"
      ]
    },
    {
      "cell_type": "code",
      "execution_count": 67,
      "metadata": {
        "colab": {
          "base_uri": "https://localhost:8080/"
        },
        "id": "bbVvtvoKpdqt",
        "outputId": "e083d326-7230-4b51-ce9f-268471d9dfbd"
      },
      "outputs": [
        {
          "data": {
            "text/plain": [
              "['timesofindia',\n",
              " 'indiatoday',\n",
              " 'ndtv',\n",
              " 'hindustantimes',\n",
              " 'thehindu',\n",
              " 'news18',\n",
              " 'indianexpress',\n",
              " 'moneycontrol',\n",
              " 'livemint',\n",
              " 'zeenews',\n",
              " 'bbc',\n",
              " 'cnn',\n",
              " 'reuters',\n",
              " 'nytimes',\n",
              " 'washingtonpost',\n",
              " 'aljazeera',\n",
              " 'khelnow',\n",
              " 'businessinsider',\n",
              " 'mirror',\n",
              " 'thesun',\n",
              " 'sportskeeda',\n",
              " 'economictimes',\n",
              " 'forbes',\n",
              " 'bloomberg',\n",
              " 'cnbc',\n",
              " 'usatoday',\n",
              " 'guardian',\n",
              " 'telegraph',\n",
              " 'nbcnews',\n",
              " 'cbsnews',\n",
              " 'abcnews',\n",
              " 'dw',\n",
              " 'rt',\n",
              " 'independent',\n",
              " 'thehill',\n",
              " 'usatoday',\n",
              " 'theguardian',\n",
              " 'latimes',\n",
              " 'chinadaily',\n",
              " 'scmp',\n",
              " 'japantimes',\n",
              " 'france24',\n",
              " 'aljazeera',\n",
              " 'tehrantimes',\n",
              " 'moscowtimes',\n",
              " 'abc.net.au',\n",
              " 'news.sky.com',\n",
              " 'cbc.ca',\n",
              " 'nzherald.co.nz']"
            ]
          },
          "execution_count": 67,
          "metadata": {},
          "output_type": "execute_result"
        }
      ],
      "source": [
        "approved_websites = [\n",
        "    \"timesofindia\",\n",
        "    \"indiatoday\",\n",
        "    \"ndtv\",\n",
        "    \"hindustantimes\",\n",
        "    \"thehindu\",\n",
        "    \"news18\",\n",
        "    \"indianexpress\",\n",
        "    \"moneycontrol\",\n",
        "    \"livemint\",\n",
        "    \"zeenews\",\n",
        "    \"bbc\",\n",
        "    \"cnn\",\n",
        "    \"reuters\",\n",
        "    \"nytimes\",\n",
        "    \"washingtonpost\",\n",
        "    \"aljazeera\",\n",
        "    \"khelnow\",\n",
        "    \"businessinsider\",\n",
        "    \"mirror\",\n",
        "    \"thesun\",\n",
        "    \"sportskeeda\",\n",
        "    \"economictimes\",\n",
        "    \"forbes\",\n",
        "    \"bloomberg\",\n",
        "    \"cnbc\",\n",
        "    \"usatoday\",\n",
        "    \"guardian\",\n",
        "    \"telegraph\",\n",
        "    \"nbcnews\",\n",
        "    \"cbsnews\",\n",
        "    \"abcnews\",\n",
        "    \"dw\",\n",
        "    \"rt\",\n",
        "    \"independent\",\n",
        "    \"thehill\",\n",
        "    \"usatoday\",\n",
        "    \"theguardian\",\n",
        "    \"latimes\",\n",
        "    \"chinadaily\",\n",
        "    \"scmp\",\n",
        "    \"japantimes\",\n",
        "    \"france24\",\n",
        "    \"aljazeera\",\n",
        "    \"tehrantimes\",\n",
        "    \"moscowtimes\",\n",
        "    \"abc.net.au\",\n",
        "    \"news.sky.com\",\n",
        "    \"cbc.ca\",\n",
        "    \"nzherald.co.nz\",\n",
        "]\n",
        "approved_websites"
      ]
    },
    {
      "cell_type": "code",
      "execution_count": 86,
      "metadata": {
        "id": "OOLJtVnoLaQO"
      },
      "outputs": [],
      "source": [
        "\n",
        "query = \"news on morocco earthquake\"\n",
        "final_url = None"
      ]
    },
    {
      "cell_type": "code",
      "execution_count": 87,
      "metadata": {
        "colab": {
          "base_uri": "https://localhost:8080/"
        },
        "id": "xsF0xxYPMPst",
        "outputId": "23dd6d2a-534b-4bcc-a1bb-5fc66015f0e7"
      },
      "outputs": [
        {
          "name": "stdout",
          "output_type": "stream",
          "text": [
            "https://www.bbc.com/news/live/world-africa-66760889\n",
            "<Response [200]>\n",
            "Valid URL: https://www.bbc.com/news/live/world-africa-66760889\n"
          ]
        }
      ],
      "source": [
        "for url in search(query, tld=\"com\", num=30, stop=10, pause=2):\n",
        "    # Check if the URL contains the name of an approved website\n",
        "    if any(website in url for website in approved_websites):\n",
        "        # Send an HTTP GET request to the URL\n",
        "        print(url)\n",
        "        response = requests.get(url)\n",
        "        print(response)\n",
        "        # Check if the request was successful (status code 200)\n",
        "        if response.status_code == 200:\n",
        "            final_url = url\n",
        "            break  # Stop iterating once a valid URL is found\n",
        "\n",
        "# Check if a valid URL was found\n",
        "if final_url:\n",
        "    print(f\"Valid URL: {final_url}\")\n",
        "else:\n",
        "    print(\"No valid URL found from the approved websites.\")\n"
      ]
    },
    {
      "cell_type": "code",
      "execution_count": 88,
      "metadata": {
        "id": "hxoJ3GhZcD6n"
      },
      "outputs": [],
      "source": [
        "def scrape_article(url):\n",
        "    try:\n",
        "        # Send an HTTP GET request to the URL\n",
        "        response = requests.get(url)\n",
        "\n",
        "        # Check if the request was successful (status code 200)\n",
        "        if response.status_code == 200:\n",
        "            # Parse the HTML content of the page\n",
        "            soup = BeautifulSoup(response.text, 'html.parser')\n",
        "\n",
        "            # Find and extract the article content based on HTML tags\n",
        "            # This example assumes the article content is within <p> tags\n",
        "            article_content = \"\\n\".join([p.get_text() for p in soup.find_all('p')])\n",
        "\n",
        "            return article_content\n",
        "        else:\n",
        "            print(f\"Failed to fetch content from {url}. Status code: {response.status_code}\")\n",
        "            return None\n",
        "    except Exception as e:\n",
        "        print(f\"An error occurred: {str(e)}\")\n",
        "        return None"
      ]
    },
    {
      "cell_type": "code",
      "execution_count": 89,
      "metadata": {
        "colab": {
          "base_uri": "https://localhost:8080/",
          "height": 109
        },
        "id": "WFj9hvzzdbaH",
        "outputId": "f8ac6a87-f4bb-42e6-c794-2f2b54f242a6"
      },
      "outputs": [
        {
          "data": {
            "application/vnd.google.colaboratory.intrinsic+json": {
              "type": "string"
            },
            "text/plain": [
              "'\\nAnd we\\'ll keep you signed in.\\nSign in  or  Register\\nYou need one to watch live TV on any channel or device, and BBC programmes on iPlayer. It’s the law.\\n  Edited by Emily McGarvey\\nAll times stated are UK\\nAlexandra Fouché\\nLive reporter\\nWe will be pausing our live coverage of events in Morocco shortly, thank you for joining us. \\nBefore we go, let\\'s take a look at what\\'s happened over the last few hours:\\nToday\\'s coverage was brought to you by our writers Ece Göksedef, Laurence Peter, Maria Zaccaro and Mattea Bubalo. We were also joined by our colleague Megan Fisher on the video desk. The page was edited by James FitzGerald, Henri Astier, Emily McGarvey and me.\\nYou can keep up to date with the latest news from Morocco with our news story here.\\nMore than 300,000 people in Marrakesh and its outskirts have been affected by the powerful earthquake that hit Morocco, the UN Office for the Coordination of Humanitarian Affairs (OCHA) says.\\nIt said OCHA was \"closely monitoring the situation and stands ready to support\".\\nIn an earlier statement, the UN said it was ready to \"assist the government of Morocco in its efforts to assist the impacted population\".\\nNick Beake\\nReporting from Marrakesh\\nWe’re driving through the winding streets of the Old City, where there is rubble around many corners. \\nStreets are sealed off and the police are doing their best to manage the traffic, amid a cacophony of moped horns.\\nSome families pass us on foot - with their possessions piled up on shopping trolleys.\\nMany are now camping out in the open, including dozens resting on the grass outside the Royal Palace. \\nThey are fearful to return to their homes, with the prospect of more aftershocks.\\nOther parts of the city are though busy and bustling - with cafes full.\\nBut in many remote places - up into the Atlas Mountains - there will not be this semblance of normality, for it is in these communities where most have lost their lives.\\nThere will be three days of national mourning in Morocco after the overnight earthquake that killed more than 1,000 people, according to an announcement from the country\\'s royal palace.\\nThe decision follows a meeting discussing the disaster, chaired by King Mohamed VI.\\n\"Three days of national mourning have been decided, with flags to fly at half-mast on all public buildings,\" a statement published by the news agency MAP read.\\nThe armed forces will send rescue teams to affected areas to provide clean drinking water, food supplies, tents and blankets, it added.\\nMany people living in isolated villages around the High Atlas mountains, close to the quake\\'s epicentre, have lost loved ones. \\nLahcen is one of them, and he is inconsolable after losing his wife and four children in the disaster. \\n\"I\\'ve lost everything,\" he tells AFP. I can\\'t do anything right now, I just want to get away from the world and mourn.\"\\nGraves are being dug on a hill in the village to bury the dead. Hasna, another resident in the area, says \"the whole village is mourning its children\".\\n\"Many of my neighbours lost loved ones. The pain is indescribable.\" \\nThe response effort to the earthquake could take years due to the level of devastation, the International Federation of Red Cross and Red Crescent Societies (IFRC) has said.\\n“We are mobilising now to support the Moroccan Red Crescent,\" Hossam Elsharkawi, IFRC\\'s regional director for the Middle East and North Africa said.\\n\"This will not be a week or two of response... we are looking at many months if not years of response.” \\nCaroline Holt, operations director for the IFRC, said the next 24 to 48 hours will be critical in terms of saving lives.\\n\"Search and rescue efforts will be prioritised in parallel, of course, with making sure that those that we know have survived are taken care of,\" she said.\\nEarlier we heard from people in Morocco who have shared what they experienced when the quake struck last night.\\nMarrakesh resident Mina Metioui said that, in the city, the noise sounded like \"a fighter jet\", getting louder and louder.\\n\"The next thing I see, my room is moving, pictures, frames started falling off the wall,\" she told BBC News. \"You know, things just started dropping off. That\\'s when I realised we\\'re going through some sort of an earthquake.\\nMontasir Itri, who lives in the mountain village of Asni, close to the epicentre, told Reuters: \"Our neighbours are under the rubble and people are working hard to rescue them using available means in the village.\"\\nHouda Outassaf had been walking around Jemaa el-Fna Square in Marrakesh when he felt the ground start to shake.\\n\"I have at least 10 members of my family who died... I can hardly believe it, as I was with them no more than two days ago,\" he told AFP.\\nAdam Smith, 23, and his girlfriend, 22, from Sheffield, are on holiday in Marrakech. They’re due to fly home on Monday. He said the hotel they\\'re staying at was “shaken to the core” during the quake.\\n“We’re relatively safe now. Things are stable compared to last night,\" he told the BBC.\\nHe said initially it was very scary when the tremor first hit. \"We were winding down to go to sleep, the glass was vibrating, we grabbed some essential items and ran outside.\"\\nHe said they, along with other guests, were near the entrance of the hotel when the second tremor hit.\\n\"We desperately searched for English speakers but we only found a couple of people who spoke broken English. We waited to see if the building would be stable and eventually ran in to retrieve medication and bedding as we faced the prospect of sleeping in the car park for the evening.\"\\nHajar Chaffag\\nBBC Africa\\nChaimae, a Moroccan national residing in London, described her initial panic upon learning of the recent earthquake in Morocco.\\nThe majority of her relatives live in and around Rabat, the nation\\'s capital, prompting her to closely follow the situation. Despite the epicentre being near Marrakesh, most recorded casualties occurred in regions with inadequate infrastructure.\\nChaimae\\'s primary concern was for her family in the coastal town of Temara, just south of Rabat. She explained: \"The housing there is often poorly structured, which heightened my worries.\"\\nOn Facebook, within a group dedicated to the Moroccan community in the UK, members quickly gathered in the early morning hours to check on each other\\'s well-being\\n One member posted, \"Is everyone okay?\" while another shared the news with the message, \"Check in on your families in Morocco. I hope everyone is safe.\" Across social media, people are uniting to share donation links and enquire about charitable organisations aiding the cause.\\nThe Moroccan community in the UK anxiously awaits updates from their homeland as the aftermath of the earthquake continues to unfold.\\nJournalist Alice Morrison has been speaking to the BBC from the Atlas Mountains where a landslide caused by the quake has blocked many roads.\\n\"It\\'s apocalyptic,\" she says. \"There are rocks everywhere, there are massive holes, there\\'s actually a crack right in front of my feet which is taking away half of the road.\"\\nThere isn\\'t any electricity or phone signal in her village, she adds, so she\\'s had to cycle 16km (10 miles) just to phone her mum.\\nIt has been more than 17 hours since the earthquake struck, and the death toll continues to rise.\\nHere is what we know so far:\\nMarrakesh is famous for its souks, the old bazaars, and there are many riads (local hotels) housed around them in the historic city walls.\\nThe souks are a tourist attraction as well as a place for locals to shop, held in narrow alleys and sometimes wider streets surrounded by old buildings.\\nThese pictures are taken near a souk in Marrakesh, near the Bab Laksour gate, after the earthquake.\\nThere are questions over whether the African Cup of Nations qualifier between Congo and the Gambia which is due to be held in Marrakesh on Sunday will go ahead.\\nSaturday\\'s qualifier between Morocco and Liberia, which was due to take place in Agadir - some 260km (160 miles) away from the quake\\'s epicentre -  has already been called off.\\nThe coaches of both teams due to play on Sunday say their players have been traumatised by the disaster, but have been told they must go ahead with their match, Reuters news agency reports.\\n              “We have been told our match on Sunday must go ahead. It’s quite strange that the Morocco game is off, but ours is not,” Gambia coach Tom Saintfiet told Reuters.\\nThe Confederation of African Football is in talks with the Moroccan FA about whether the game will take place.\\nSunday\\'s game, which was due to decide who goes through to next year\\'s Afcon finals in the Ivory Coast, is being played in Marrakesh because The Gambia\\'s stadium was deemed unfit to host internationals.\\nYou can read more here.\\nOne of Morocco\\'s most famous squares, Jemaa el Fnaa, was hit in the Marrakesh earthquake.\\nThere are many tourist attractions, historic buildings and popular cafes and restaurants around it.\\nThe historic Jemaa el Fnaa mosque itself partly collapsed last night.\\nHere you can see the damages it has suffered, especially to its tower.\\nDina Anwar, a reporter for World News Morocco, was in the country\\'s capital, Rabat, when the earthquake hit.\\n\"We were lucky enough in Rabat to be evacuated immediately; unfortunately, it was not the same for other cities. We didn\\'t know what to do, we only knew that we shouldn\\'t be in our houses,\" she recalls about last night.\\nShe says people around her were panicking, but as a journalist, she was also trying to keep up with what was happening as well as trying to reach out to her loved ones in Agadir, her hometown.\\n\"Communications are definitely impacted, there is an issue with trying to reach everyone. So many old buildings have been destroyed, it is a struggle to try to check on your loved ones.\"\\nShe says rural areas have been impacted more by the earthquake:\\n\"And the most impacted areas are where we have a lot of old buildings. The toll is linked to the fact that we have infrastructure issues.\"\\nRescue efforts in Morocco are under way as the death toll there has hit 1,037. \\nMarrakesh is one of the cities worst affected.\\nBut other parts of the country, including hard-to-reach mountain areas, have also been badly hit. \\nAmal Saeed\\nBBC Arabic, reporting from Cairo\\nRashid Ben\\nArabi rushed to his car in Marrakesh minutes after the earthquake struck the\\ncity last night. He quickly headed with his wife and one-and-a-half-year-old\\ndaughter to the town of Amizmiz - about 56km (35 miles) from Marrakesh - to make\\nsure his father and mother were still alive.\\nHe says the roads were full as everyone fled the city amid complete\\ndarkness and a power outage.\\n\"As soon\\nas I entered my town, I saw people in a hysterical state, crying and screaming,\\nand everyone was looking for their families.\"\\nRashid continues: \"I\\nsaw a man lying on the ground by the rubble of his house; he could hear the screams\\nof his two children trapped under the destroyed building, but he couldn’t do anything\\nto help them; rescue teams hadn’t yet arrived at the scene.\"\\nRashid finally made it to his parents’ house: they\\nwere safe and sound, but wrapped in blankets and sleeping in\\nthe street, waiting for confirmation from the authorities that their\\nhome was safe enough to go back in.\\nMorocco’s main TV channels have provided blanket coverage of\\nthe earthquake and rescue efforts, but have largely refrained from airing\\nfootage of the destruction. \\nOne notable exception was a report on state-affiliated 2MTV from al-Haouz province, said to be one of the worst-affected areas. It showed people digging graves to bury victims. A correspondent said 20\\ndeaths had been reported in a village.\\nState-run al-Aoula aired some “exclusive” footage from\\nMarrakesh, but the programming has largely been comprised of a studio discussion and\\nrepeated shots of troops mobilising in Taroudant province.\\nIn neighbouring Algeria, state TV gave low billing to the earthquake - a likely reflection of the poor state of relations between the two countries.\\nIn its morning bulletin, Channel 3 carried the news after a\\nreport on a visit by the UN envoy for Western Sahara which\\ncriticised Morocco\\'s \"occupation\" of the region.\\nThe Gambia coach Tom Saintfiet said he feared a plane had crashed into his hotel after experiencing Friday\\'s devastating Morocco earthquake.\\nThe Belgian football coach and his team are in Marrakesh for Sunday\\'s Africa Cup of Nations qualifier against Congo.\\nSaintfiet said he had initially heard a lot of noise and thought it was someone knocking on his door. \\nHe said a few seconds later he thought a plane had crashed into the hotel. \\nHe described the experience as \"shocking and terrible\".\\nRead the full story here. \\nAlgeria has said it is ready to open its\\nairspace for humanitarian and medical flights to Morocco, despite breaking off ties with its neighbour two years ago, Reuters news agency reports.\\nThe two countries have been embroiled in a diplomatic row, and in 2021 Algeria severed ties with Morocco. \\nThe move included suspending direct flights in both directions. \\nBut following the earthquake, Algeria\\'s presidency has said in a statement it is ready to provide humanitarian aid and people \"in solidarity with the brotherly\\nMoroccan people, if Morocco requests such help\". '"
            ]
          },
          "execution_count": 89,
          "metadata": {},
          "output_type": "execute_result"
        }
      ],
      "source": [
        "scrape_article(final_url)"
      ]
    },
    {
      "cell_type": "code",
      "execution_count": 90,
      "metadata": {
        "id": "cmC_OI6CG072"
      },
      "outputs": [],
      "source": [
        "# prompts\n",
        "pre_prompt = \"You are a news assistant named 'Newsie' that summarises news articles. You do not respond as 'User' or pretend to be 'User', you only respond once as 'Newsie' and writes full answers, no partial answers. You can also smartly recognise what part of the input text is part of the news and which part is just the website extras.\"\n",
        "# pre_prompt = \"\"\n",
        "prompt_input = \"Summarise the following article in 10 bullet points (just give me 10 bullet points with no extra text):\" + scrape_article(url) + f\"\\n\\n exclude making any bullet any points that seem like they talk about the news website or external promotions that are not on the topic of {query} and are off topic to the main content. The bullet points should only involve {query}\"\n"
      ]
    },
    {
      "cell_type": "code",
      "execution_count": 91,
      "metadata": {
        "colab": {
          "base_uri": "https://localhost:8080/",
          "height": 109
        },
        "id": "CmVtldSiKAGg",
        "outputId": "dc9b2fbe-55a2-4c50-e9ea-37f436a36992"
      },
      "outputs": [
        {
          "data": {
            "application/vnd.google.colaboratory.intrinsic+json": {
              "type": "string"
            },
            "text/plain": [
              "'Summarise the following article in 10 bullet points (just give me 10 bullet points with no extra text):\\nAnd we\\'ll keep you signed in.\\nSign in  or  Register\\nYou need one to watch live TV on any channel or device, and BBC programmes on iPlayer. It’s the law.\\n  Edited by Emily McGarvey\\nAll times stated are UK\\nAlexandra Fouché\\nLive reporter\\nWe will be pausing our live coverage of events in Morocco shortly, thank you for joining us. \\nBefore we go, let\\'s take a look at what\\'s happened over the last few hours:\\nToday\\'s coverage was brought to you by our writers Ece Göksedef, Laurence Peter, Maria Zaccaro and Mattea Bubalo. We were also joined by our colleague Megan Fisher on the video desk. The page was edited by James FitzGerald, Henri Astier, Emily McGarvey and me.\\nYou can keep up to date with the latest news from Morocco with our news story here.\\nMore than 300,000 people in Marrakesh and its outskirts have been affected by the powerful earthquake that hit Morocco, the UN Office for the Coordination of Humanitarian Affairs (OCHA) says.\\nIt said OCHA was \"closely monitoring the situation and stands ready to support\".\\nIn an earlier statement, the UN said it was ready to \"assist the government of Morocco in its efforts to assist the impacted population\".\\nNick Beake\\nReporting from Marrakesh\\nWe’re driving through the winding streets of the Old City, where there is rubble around many corners. \\nStreets are sealed off and the police are doing their best to manage the traffic, amid a cacophony of moped horns.\\nSome families pass us on foot - with their possessions piled up on shopping trolleys.\\nMany are now camping out in the open, including dozens resting on the grass outside the Royal Palace. \\nThey are fearful to return to their homes, with the prospect of more aftershocks.\\nOther parts of the city are though busy and bustling - with cafes full.\\nBut in many remote places - up into the Atlas Mountains - there will not be this semblance of normality, for it is in these communities where most have lost their lives.\\nThere will be three days of national mourning in Morocco after the overnight earthquake that killed more than 1,000 people, according to an announcement from the country\\'s royal palace.\\nThe decision follows a meeting discussing the disaster, chaired by King Mohamed VI.\\n\"Three days of national mourning have been decided, with flags to fly at half-mast on all public buildings,\" a statement published by the news agency MAP read.\\nThe armed forces will send rescue teams to affected areas to provide clean drinking water, food supplies, tents and blankets, it added.\\nMany people living in isolated villages around the High Atlas mountains, close to the quake\\'s epicentre, have lost loved ones. \\nLahcen is one of them, and he is inconsolable after losing his wife and four children in the disaster. \\n\"I\\'ve lost everything,\" he tells AFP. I can\\'t do anything right now, I just want to get away from the world and mourn.\"\\nGraves are being dug on a hill in the village to bury the dead. Hasna, another resident in the area, says \"the whole village is mourning its children\".\\n\"Many of my neighbours lost loved ones. The pain is indescribable.\" \\nThe response effort to the earthquake could take years due to the level of devastation, the International Federation of Red Cross and Red Crescent Societies (IFRC) has said.\\n“We are mobilising now to support the Moroccan Red Crescent,\" Hossam Elsharkawi, IFRC\\'s regional director for the Middle East and North Africa said.\\n\"This will not be a week or two of response... we are looking at many months if not years of response.” \\nCaroline Holt, operations director for the IFRC, said the next 24 to 48 hours will be critical in terms of saving lives.\\n\"Search and rescue efforts will be prioritised in parallel, of course, with making sure that those that we know have survived are taken care of,\" she said.\\nEarlier we heard from people in Morocco who have shared what they experienced when the quake struck last night.\\nMarrakesh resident Mina Metioui said that, in the city, the noise sounded like \"a fighter jet\", getting louder and louder.\\n\"The next thing I see, my room is moving, pictures, frames started falling off the wall,\" she told BBC News. \"You know, things just started dropping off. That\\'s when I realised we\\'re going through some sort of an earthquake.\\nMontasir Itri, who lives in the mountain village of Asni, close to the epicentre, told Reuters: \"Our neighbours are under the rubble and people are working hard to rescue them using available means in the village.\"\\nHouda Outassaf had been walking around Jemaa el-Fna Square in Marrakesh when he felt the ground start to shake.\\n\"I have at least 10 members of my family who died... I can hardly believe it, as I was with them no more than two days ago,\" he told AFP.\\nAdam Smith, 23, and his girlfriend, 22, from Sheffield, are on holiday in Marrakech. They’re due to fly home on Monday. He said the hotel they\\'re staying at was “shaken to the core” during the quake.\\n“We’re relatively safe now. Things are stable compared to last night,\" he told the BBC.\\nHe said initially it was very scary when the tremor first hit. \"We were winding down to go to sleep, the glass was vibrating, we grabbed some essential items and ran outside.\"\\nHe said they, along with other guests, were near the entrance of the hotel when the second tremor hit.\\n\"We desperately searched for English speakers but we only found a couple of people who spoke broken English. We waited to see if the building would be stable and eventually ran in to retrieve medication and bedding as we faced the prospect of sleeping in the car park for the evening.\"\\nHajar Chaffag\\nBBC Africa\\nChaimae, a Moroccan national residing in London, described her initial panic upon learning of the recent earthquake in Morocco.\\nThe majority of her relatives live in and around Rabat, the nation\\'s capital, prompting her to closely follow the situation. Despite the epicentre being near Marrakesh, most recorded casualties occurred in regions with inadequate infrastructure.\\nChaimae\\'s primary concern was for her family in the coastal town of Temara, just south of Rabat. She explained: \"The housing there is often poorly structured, which heightened my worries.\"\\nOn Facebook, within a group dedicated to the Moroccan community in the UK, members quickly gathered in the early morning hours to check on each other\\'s well-being\\n One member posted, \"Is everyone okay?\" while another shared the news with the message, \"Check in on your families in Morocco. I hope everyone is safe.\" Across social media, people are uniting to share donation links and enquire about charitable organisations aiding the cause.\\nThe Moroccan community in the UK anxiously awaits updates from their homeland as the aftermath of the earthquake continues to unfold.\\nJournalist Alice Morrison has been speaking to the BBC from the Atlas Mountains where a landslide caused by the quake has blocked many roads.\\n\"It\\'s apocalyptic,\" she says. \"There are rocks everywhere, there are massive holes, there\\'s actually a crack right in front of my feet which is taking away half of the road.\"\\nThere isn\\'t any electricity or phone signal in her village, she adds, so she\\'s had to cycle 16km (10 miles) just to phone her mum.\\nIt has been more than 17 hours since the earthquake struck, and the death toll continues to rise.\\nHere is what we know so far:\\nMarrakesh is famous for its souks, the old bazaars, and there are many riads (local hotels) housed around them in the historic city walls.\\nThe souks are a tourist attraction as well as a place for locals to shop, held in narrow alleys and sometimes wider streets surrounded by old buildings.\\nThese pictures are taken near a souk in Marrakesh, near the Bab Laksour gate, after the earthquake.\\nThere are questions over whether the African Cup of Nations qualifier between Congo and the Gambia which is due to be held in Marrakesh on Sunday will go ahead.\\nSaturday\\'s qualifier between Morocco and Liberia, which was due to take place in Agadir - some 260km (160 miles) away from the quake\\'s epicentre -  has already been called off.\\nThe coaches of both teams due to play on Sunday say their players have been traumatised by the disaster, but have been told they must go ahead with their match, Reuters news agency reports.\\n              “We have been told our match on Sunday must go ahead. It’s quite strange that the Morocco game is off, but ours is not,” Gambia coach Tom Saintfiet told Reuters.\\nThe Confederation of African Football is in talks with the Moroccan FA about whether the game will take place.\\nSunday\\'s game, which was due to decide who goes through to next year\\'s Afcon finals in the Ivory Coast, is being played in Marrakesh because The Gambia\\'s stadium was deemed unfit to host internationals.\\nYou can read more here.\\nOne of Morocco\\'s most famous squares, Jemaa el Fnaa, was hit in the Marrakesh earthquake.\\nThere are many tourist attractions, historic buildings and popular cafes and restaurants around it.\\nThe historic Jemaa el Fnaa mosque itself partly collapsed last night.\\nHere you can see the damages it has suffered, especially to its tower.\\nDina Anwar, a reporter for World News Morocco, was in the country\\'s capital, Rabat, when the earthquake hit.\\n\"We were lucky enough in Rabat to be evacuated immediately; unfortunately, it was not the same for other cities. We didn\\'t know what to do, we only knew that we shouldn\\'t be in our houses,\" she recalls about last night.\\nShe says people around her were panicking, but as a journalist, she was also trying to keep up with what was happening as well as trying to reach out to her loved ones in Agadir, her hometown.\\n\"Communications are definitely impacted, there is an issue with trying to reach everyone. So many old buildings have been destroyed, it is a struggle to try to check on your loved ones.\"\\nShe says rural areas have been impacted more by the earthquake:\\n\"And the most impacted areas are where we have a lot of old buildings. The toll is linked to the fact that we have infrastructure issues.\"\\nRescue efforts in Morocco are under way as the death toll there has hit 1,037. \\nMarrakesh is one of the cities worst affected.\\nBut other parts of the country, including hard-to-reach mountain areas, have also been badly hit. \\nAmal Saeed\\nBBC Arabic, reporting from Cairo\\nRashid Ben\\nArabi rushed to his car in Marrakesh minutes after the earthquake struck the\\ncity last night. He quickly headed with his wife and one-and-a-half-year-old\\ndaughter to the town of Amizmiz - about 56km (35 miles) from Marrakesh - to make\\nsure his father and mother were still alive.\\nHe says the roads were full as everyone fled the city amid complete\\ndarkness and a power outage.\\n\"As soon\\nas I entered my town, I saw people in a hysterical state, crying and screaming,\\nand everyone was looking for their families.\"\\nRashid continues: \"I\\nsaw a man lying on the ground by the rubble of his house; he could hear the screams\\nof his two children trapped under the destroyed building, but he couldn’t do anything\\nto help them; rescue teams hadn’t yet arrived at the scene.\"\\nRashid finally made it to his parents’ house: they\\nwere safe and sound, but wrapped in blankets and sleeping in\\nthe street, waiting for confirmation from the authorities that their\\nhome was safe enough to go back in.\\nMorocco’s main TV channels have provided blanket coverage of\\nthe earthquake and rescue efforts, but have largely refrained from airing\\nfootage of the destruction. \\nOne notable exception was a report on state-affiliated 2MTV from al-Haouz province, said to be one of the worst-affected areas. It showed people digging graves to bury victims. A correspondent said 20\\ndeaths had been reported in a village.\\nState-run al-Aoula aired some “exclusive” footage from\\nMarrakesh, but the programming has largely been comprised of a studio discussion and\\nrepeated shots of troops mobilising in Taroudant province.\\nIn neighbouring Algeria, state TV gave low billing to the earthquake - a likely reflection of the poor state of relations between the two countries.\\nIn its morning bulletin, Channel 3 carried the news after a\\nreport on a visit by the UN envoy for Western Sahara which\\ncriticised Morocco\\'s \"occupation\" of the region.\\nThe Gambia coach Tom Saintfiet said he feared a plane had crashed into his hotel after experiencing Friday\\'s devastating Morocco earthquake.\\nThe Belgian football coach and his team are in Marrakesh for Sunday\\'s Africa Cup of Nations qualifier against Congo.\\nSaintfiet said he had initially heard a lot of noise and thought it was someone knocking on his door. \\nHe said a few seconds later he thought a plane had crashed into the hotel. \\nHe described the experience as \"shocking and terrible\".\\nRead the full story here. \\nAlgeria has said it is ready to open its\\nairspace for humanitarian and medical flights to Morocco, despite breaking off ties with its neighbour two years ago, Reuters news agency reports.\\nThe two countries have been embroiled in a diplomatic row, and in 2021 Algeria severed ties with Morocco. \\nThe move included suspending direct flights in both directions. \\nBut following the earthquake, Algeria\\'s presidency has said in a statement it is ready to provide humanitarian aid and people \"in solidarity with the brotherly\\nMoroccan people, if Morocco requests such help\". \\n\\n exclude making any bullet any points that seem like they talk about the news website or external promotions that are not on the topic of news on morocco earthquake and are off topic to the main content. The bullet points should only involve news on morocco earthquake'"
            ]
          },
          "execution_count": 91,
          "metadata": {},
          "output_type": "execute_result"
        }
      ],
      "source": [
        "prompt_input"
      ]
    },
    {
      "cell_type": "code",
      "execution_count": 92,
      "metadata": {
        "id": "57JCky-2KQdx"
      },
      "outputs": [],
      "source": [
        "output = replicate.run('meta/llama-2-13b-chat:de18b8b68ef78f4f52c87eb7e3a0244d18b45b3c67affef2d5055ddc9c2fb678',\n",
        "                       input={\"prompt\":f\"{prompt_input} Newsie:\",\"system_prompt\":pre_prompt,\n",
        "                              \"temperature\":0.75,\"top_p\":0.9,\"max_new_tokens\":2000,\"repetition_penalty\":1})"
      ]
    },
    {
      "cell_type": "code",
      "execution_count": 93,
      "metadata": {
        "colab": {
          "base_uri": "https://localhost:8080/"
        },
        "id": "Xc2AjjwHM74_",
        "outputId": "af790090-93f8-43ef-e1a2-aad94545735f"
      },
      "outputs": [
        {
          "name": "stdout",
          "output_type": "stream",
          "text": [
            " Sure! Here are ten bullet points summarizing the article without any external promotions or mentions of the news website:\n",
            "\n",
            "• At least 1,037 people have died in Morocco after an earthquake struck the country yesterday evening.\n",
            "\n",
            "• Marrakesh was one of the cities worst affected by the quake, with many historic buildings collapsing.\n",
            "\n",
            "• Rescue efforts are underway, but communication is impacted due to infrastructure issues.\n",
            "\n",
            "• Many rural areas were hit harder than urban centers because of the country's infrastructure.\n",
            "\n",
            "• The death toll continues to rise as search and rescue efforts continue.\n",
            "\n",
            "• Journalist Alice Morrison described the scene near the Atlas Mountains as \"apocalyptic\" with rocks and cracks everywhere.\n",
            "\n",
            "• A landslide caused by the quake has blocked many roads, making it difficult for rescue teams to reach some areas.\n",
            "\n",
            "• The African Cup of Nations qualifier between Congo and Gambia, which was set to take place in Marrakesh on Sunday, has been called off.\n",
            "\n",
            "• Moroccan authorities have declared three days of national mourning starting from today.\n",
            "\n",
            "• The United Nations Office for the Coordination of Humanitarian Affairs (OCHA) is closely monitoring the situation and stands ready to support relief efforts.\n"
          ]
        }
      ],
      "source": [
        "full_response = \"\"\n",
        "for item in output:\n",
        "  full_response+=item\n",
        "print(full_response)"
      ]
    },
    {
      "cell_type": "code",
      "execution_count": null,
      "metadata": {
        "id": "8jr6JR0g4j2W"
      },
      "outputs": [],
      "source": []
    }
  ],
  "metadata": {
    "colab": {
      "gpuType": "T4",
      "provenance": []
    },
    "kernelspec": {
      "display_name": "Python 3",
      "name": "python3"
    },
    "language_info": {
      "name": "python"
    }
  },
  "nbformat": 4,
  "nbformat_minor": 0
}
